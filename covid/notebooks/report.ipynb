{
 "cells": [
  {
   "cell_type": "code",
   "execution_count": 17,
   "metadata": {},
   "outputs": [],
   "source": [
    "from covid.models.rseicha import RSEICHA\n",
    "import covid\n",
    "import pandas as pd\n",
    "import matplotlib.pyplot as plt\n",
    "import numpy as np\n",
    "from covid.utils import pm, pc"
   ]
  },
  {
   "cell_type": "code",
   "execution_count": 18,
   "metadata": {},
   "outputs": [],
   "source": [
    "# Parameters\n",
    "region_name = 'Brazil'\n",
    "seed = 2000\n",
    "i18n = 'pt-BR'"
   ]
  },
  {
   "cell_type": "code",
   "execution_count": 19,
   "metadata": {},
   "outputs": [],
   "source": [
    "# Derived variables\n",
    "region = covid.Region(region_name)\n",
    "covid.set_i18n(i18n)"
   ]
  },
  {
   "cell_type": "markdown",
   "metadata": {
    "variables": {
     " region ": "Brazil",
     "-region-": "<p><strong>SyntaxError</strong>: invalid syntax (<ipython-input-9-5394e6ad6aa7>, line 1)</p>\n"
    }
   },
   "source": [
    "# Relatório de propagação do COVID-19: {{ region }}\n",
    "\n",
    "Covid-19 é uma ameaça global, XXX.\n",
    "\n",
    "Este relatório faz uma previsão da velocidade de alastramento da epidemia de COVID-19 e do impacto desta no sistema de saúde. Fazemos algumas recomendações de ações para conter ou diminuir a velocidade de alastramento do vírus, além de recomendações sobre o tempo ideal para realizar as intervenções.\n",
    "\n",
    "A simulação possui algumas limitações e incertezas, principalmente porque ainda não conhecemos com muita precisão alguns parâmetros epidemiológicos e clínicos da doença. Alguns destes fatores possuem enorme impacto sobre o resultado final. Dependendo do caso, pequenas variações destes parâmetros podem afetar bastante o resultado das simulações.  "
   ]
  },
  {
   "cell_type": "markdown",
   "metadata": {
    "variables": {
     " region ": "Brazil",
     " region.population_size ": "212559000"
    }
   },
   "source": [
    "## Características básicas da região\n",
    "\n",
    "**Nome:** {{ region }}<br>\n",
    "**População:** {{ region.population_size }}<br>\n",
    "**Leitos de enfermaria:** {{ region.population_size }}<br>\n",
    "**Leitos de UTI:** {{ region.population_size }}<br>\n",
    "**Ocupação enfermaria:** {{ region.population_size }}<br>\n",
    "**Ocupação UTI:** {{ region.population_size }}<br>\n"
   ]
  },
  {
   "cell_type": "markdown",
   "metadata": {},
   "source": [
    "## Simulação referência"
   ]
  },
  {
   "cell_type": "code",
   "execution_count": 20,
   "metadata": {
    "hideOutput": false
   },
   "outputs": [
    {
     "name": "stdout",
     "output_type": "stream",
     "text": [
      "\n",
      "SIMULATION PARAMETERS (RSEICHA)\n",
      "\n",
      "Parameters\n",
      "- R0                : 2.74\n",
      "- P(is symptomatic) : 14.00%\n",
      "\n",
      "\n",
      "SIMULATION RESULTS (RSEICHA)\n",
      "\n",
      "Demography\n",
      "- Total population   : 212.55mi\n",
      "- Recovered          : 115.38mi (54.28%)\n",
      "- Fatalities (total) : 1.40mi (0.66%)\n",
      "- Infected (max)     : 16.35mi (7.69%)\n",
      "- Asymptomatic (max) : 100.44mi (47.25%)\n",
      "- Exposed (max)      : 116.80mi (54.95%)\n",
      "        \n",
      "\n",
      "Epidemiology\n",
      "- R0   : 2.74\n",
      "- IFR  : 1.21%\n",
      "- CFR  : 8.61%\n",
      "- HFR  : 23.45%\n",
      "- HCFR : 221.19%\n",
      "\n",
      "\n",
      "Healthcare parameters\n",
      "- Hosp. days         : 19.81mi\n",
      "- ICU days           : 11.14mi\n",
      "- Peak hosp. demand  : 0.78mi (3.71‰)\n",
      "    x surge capacity : 5.23\n",
      "    x total          : 1.05\n",
      "- Peak ICU demand    : 0.27mi (1.29‰)\n",
      "    x surge capacity : 4.02\n",
      "    x total          : 0.80\n",
      "- Hosp. collapse day : 30.00 days (2020-04-24)\n",
      "- ICU collapse day   : 37.40 days (2020-05-01)\n",
      "\n",
      "\n",
      "Invariants\n",
      "- Sum of compartments: 212.55mi (2.16e-14%)\n",
      "\n"
     ]
    }
   ],
   "source": [
    "model = RSEICHA(region=region, seed=seed)\n",
    "model.run()\n",
    "print(model)"
   ]
  },
  {
   "cell_type": "code",
   "execution_count": 21,
   "metadata": {},
   "outputs": [
    {
     "data": {
      "text/plain": [
       "212559000"
      ]
     },
     "execution_count": 21,
     "metadata": {},
     "output_type": "execute_result"
    }
   ],
   "source": [
    "region.population_size"
   ]
  },
  {
   "cell_type": "code",
   "execution_count": 22,
   "metadata": {},
   "outputs": [
    {
     "data": {
      "text/html": [
       "<div>\n",
       "<style scoped>\n",
       "    .dataframe tbody tr th:only-of-type {\n",
       "        vertical-align: middle;\n",
       "    }\n",
       "\n",
       "    .dataframe tbody tr th {\n",
       "        vertical-align: top;\n",
       "    }\n",
       "\n",
       "    .dataframe thead th {\n",
       "        text-align: right;\n",
       "    }\n",
       "</style>\n",
       "<table border=\"1\" class=\"dataframe\">\n",
       "  <thead>\n",
       "    <tr style=\"text-align: right;\">\n",
       "      <th></th>\n",
       "      <th>Name</th>\n",
       "      <th>Items/day</th>\n",
       "      <th>Total</th>\n",
       "    </tr>\n",
       "  </thead>\n",
       "  <tbody>\n",
       "    <tr>\n",
       "      <th>0</th>\n",
       "      <td>Mask</td>\n",
       "      <td>25</td>\n",
       "      <td>773843275</td>\n",
       "    </tr>\n",
       "    <tr>\n",
       "      <th>1</th>\n",
       "      <td>Mask N95</td>\n",
       "      <td>1</td>\n",
       "      <td>30953731</td>\n",
       "    </tr>\n",
       "    <tr>\n",
       "      <th>2</th>\n",
       "      <td>Avental impermeável</td>\n",
       "      <td>25</td>\n",
       "      <td>773843275</td>\n",
       "    </tr>\n",
       "    <tr>\n",
       "      <th>3</th>\n",
       "      <td>Glove</td>\n",
       "      <td>50</td>\n",
       "      <td>1547686550</td>\n",
       "    </tr>\n",
       "    <tr>\n",
       "      <th>4</th>\n",
       "      <td>Faceshield</td>\n",
       "      <td>1</td>\n",
       "      <td>30953731</td>\n",
       "    </tr>\n",
       "  </tbody>\n",
       "</table>\n",
       "</div>"
      ],
      "text/plain": [
       "                  Name  Items/day       Total\n",
       "0                 Mask         25   773843275\n",
       "1             Mask N95          1    30953731\n",
       "2  Avental impermeável         25   773843275\n",
       "3                Glove         50  1547686550\n",
       "4           Faceshield          1    30953731"
      ]
     },
     "execution_count": 22,
     "metadata": {},
     "output_type": "execute_result"
    }
   ],
   "source": [
    "model.health_resources()"
   ]
  },
  {
   "cell_type": "code",
   "execution_count": 23,
   "metadata": {},
   "outputs": [
    {
     "ename": "ModuleNotFoundError",
     "evalue": "No module named 'pnad'",
     "output_type": "error",
     "traceback": [
      "\u001b[0;31m---------------------------------------------------------------------------\u001b[0m",
      "\u001b[0;31mModuleNotFoundError\u001b[0m                       Traceback (most recent call last)",
      "\u001b[0;32m<ipython-input-23-499d6850e551>\u001b[0m in \u001b[0;36m<module>\u001b[0;34m\u001b[0m\n\u001b[0;32m----> 1\u001b[0;31m \u001b[0;32mimport\u001b[0m \u001b[0mpnad\u001b[0m\u001b[0;34m\u001b[0m\u001b[0;34m\u001b[0m\u001b[0m\n\u001b[0m",
      "\u001b[0;31mModuleNotFoundError\u001b[0m: No module named 'pnad'"
     ]
    }
   ],
   "source": [
    "import pnad"
   ]
  },
  {
   "cell_type": "code",
   "execution_count": null,
   "metadata": {},
   "outputs": [],
   "source": [
    "df = pnad.load(2012, fields=['age', 'V0102', 'V0103'])"
   ]
  },
  {
   "cell_type": "code",
   "execution_count": null,
   "metadata": {},
   "outputs": [],
   "source": [
    "df"
   ]
  },
  {
   "cell_type": "code",
   "execution_count": null,
   "metadata": {},
   "outputs": [],
   "source": [
    "from pnad.enums import State, Gender"
   ]
  },
  {
   "cell_type": "code",
   "execution_count": null,
   "metadata": {},
   "outputs": [],
   "source": [
    "State.to_category(State.DF)"
   ]
  },
  {
   "cell_type": "markdown",
   "metadata": {},
   "source": []
  },
  {
   "cell_type": "code",
   "execution_count": 73,
   "metadata": {},
   "outputs": [
    {
     "name": "stdout",
     "output_type": "stream",
     "text": [
      "467629.80000000005\n",
      "149641.536\n"
     ]
    },
    {
     "data": {
      "text/plain": [
       "6"
      ]
     },
     "execution_count": 73,
     "metadata": {},
     "output_type": "execute_result"
    }
   ],
   "source": [
    "print(model.hospital_total_capacity)\n",
    "print(model.hospital_capacity)\n",
    "\n",
    "model.HOSPITALIZED"
   ]
  },
  {
   "cell_type": "markdown",
   "metadata": {},
   "source": [
    "## Necessidade de leitos\n",
    "\n"
   ]
  },
  {
   "cell_type": "code",
   "execution_count": 190,
   "metadata": {},
   "outputs": [],
   "source": [
    "pm = False # Por mil habitantes"
   ]
  },
  {
   "cell_type": "code",
   "execution_count": 198,
   "metadata": {},
   "outputs": [
    {
     "name": "stdout",
     "output_type": "stream",
     "text": [
      "nec [782492.6845761953, 273111.5266095693]\n",
      "disp [149641.536, 68018.87999999999]\n",
      "ocup [317988.2640000001, 144540.12]\n",
      "total [467629.80000000005, 212559.0]\n"
     ]
    },
    {
     "data": {
      "image/png": "[encoded data removed]",
      "text/plain": [
       "<Figure size 432x288 with 1 Axes>"
      ]
     },
     "metadata": {
      "needs_background": "light"
     },
     "output_type": "display_data"
    }
   ],
   "source": [
    "labels_a = ['internação', 'UTI']\n",
    "labels_b = ['calculado', 'calculados']\n",
    "\n",
    "\n",
    "available = [model.hospital_capacity, model.icu_capacity]\n",
    "capacity = [model.hospital_total_capacity, model.icu_total_capacity]\n",
    "required = [model.peak_hospitalization_demand, model.peak_icu_demand]\n",
    "unavailable = [total-av for total, av in zip(capacity, available)]\n",
    "\n",
    "if pm:\n",
    "    pop = model.population\n",
    "    available = [item/pop * 1000 for item in available]\n",
    "    capacity = [item/pop * 1000 for item in capacity]\n",
    "    unavailable = [item/pop * 1000 for item in unavailable]\n",
    "    required = [item/pop * 1000 for item in required]\n",
    "\n",
    "print(\"nec\", required)\n",
    "print(\"disp\", available)\n",
    "print(\"ocup\", unavailable)\n",
    "print(\"total\", capacity)\n",
    "\n",
    "x = np.arange(len(labels))\n",
    "width = 0.35\n",
    "fig, ax = plt.subplots()\n",
    "\n",
    "ax.bar(labels, unavailable, width, label='Ocupados')\n",
    "ax.bar(labels, available, width, bottom=unavailable, label='Disponíveis')\n",
    "\n",
    "ax.bar(width+x, required, width, label='Necessários')\n",
    "\n",
    "ax.set_ylabel('Leitos')\n",
    "ax.set_title('Leitos totais, disponíveis e necessários')\n",
    "ax.legend()\n",
    "\n",
    "plt.show()"
   ]
  },
  {
   "cell_type": "code",
   "execution_count": 185,
   "metadata": {},
   "outputs": [
    {
     "name": "stdout",
     "output_type": "stream",
     "text": [
      "[-0.35  0.65]\n"
     ]
    }
   ],
   "source": [
    "np.arange(len(labels_a))\n",
    "print(x-0.35)"
   ]
  }
 ],
 "metadata": {
  "kernelspec": {
   "display_name": "Python 3",
   "language": "python",
   "name": "python3"
  },
  "language_info": {
   "codemirror_mode": {
    "name": "ipython",
    "version": 3
   },
   "file_extension": ".py",
   "mimetype": "text/x-python",
   "name": "python",
   "nbconvert_exporter": "python",
   "pygments_lexer": "ipython3",
   "version": "3.7.3"
  }
 },
 "nbformat": 4,
 "nbformat_minor": 2
}
